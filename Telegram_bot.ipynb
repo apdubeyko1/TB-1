{
  "nbformat": 4,
  "nbformat_minor": 0,
  "metadata": {
    "colab": {
      "provenance": [],
      "mount_file_id": "1bkBfvHxeHnp5h-rHsF7cXGrTeQ1JwxWj",
      "authorship_tag": "ABX9TyM7yFdiyO6JF6dnpwkMI9aM",
      "include_colab_link": true
    },
    "kernelspec": {
      "name": "python3",
      "display_name": "Python 3"
    },
    "language_info": {
      "name": "python"
    },
    "accelerator": "GPU",
    "gpuClass": "standard"
  },
  "cells": [
    {
      "cell_type": "markdown",
      "metadata": {
        "id": "view-in-github",
        "colab_type": "text"
      },
      "source": [
        "<a href=\"https://colab.research.google.com/github/apdubeyko1/TB-1/blob/main/Telegram_bot.ipynb\" target=\"_parent\"><img src=\"https://colab.research.google.com/assets/colab-badge.svg\" alt=\"Open In Colab\"/></a>"
      ]
    },
    {
      "cell_type": "code",
      "source": [
        "pip install pyTelegramBotAPI"
      ],
      "metadata": {
        "id": "NqtMYU3w2fTV"
      },
      "execution_count": null,
      "outputs": []
    },
    {
      "cell_type": "code",
      "source": [
        "pip install transformers==4.24.0"
      ],
      "metadata": {
        "id": "KRNXBlXn3F-V"
      },
      "execution_count": null,
      "outputs": []
    },
    {
      "cell_type": "code",
      "source": [
        "pip install xlrd"
      ],
      "metadata": {
        "id": "hbLkQElp_LBJ"
      },
      "execution_count": null,
      "outputs": []
    },
    {
      "cell_type": "code",
      "source": [
        "pip install google-drive-to-sqlite auth"
      ],
      "metadata": {
        "id": "nOaKYp0__MWP"
      },
      "execution_count": null,
      "outputs": []
    },
    {
      "cell_type": "code",
      "execution_count": null,
      "metadata": {
        "id": "2JhEJk7P1_Pe"
      },
      "outputs": [],
      "source": [
        "\n",
        "import telebot\n",
        "from telebot import types\n",
        "from transformers import GPT2LMHeadModel, GPT2Tokenizer\n",
        "import numpy as np\n",
        "import torch\n",
        "import xlrd\n",
        "import sqlite3\n",
        "\n",
        "TOKEN = \"5958589091:AAH26SHZd4EACGRdFCIEbDIyK2LdkCqqOTo\"\n",
        "bot = telebot.TeleBot(TOKEN)\n",
        "np.random.seed(42)\n",
        "torch.manual_seed(42)\n",
        "path = \"/content/drive/My Drive/BOT/databases/mydatabase.db\"\n",
        "conn = sqlite3.connect(path)\n",
        "cursor = conn.cursor()\n",
        "\n",
        "def load_tokenizer_and_model(model_name_or_path):\n",
        "\treturn GPT2Tokenizer.from_pretrained(model_name_or_path), GPT2LMHeadModel.from_pretrained(model_name_or_path).cuda()\n",
        "\n",
        "def db_table_val(user_id: int, user_name: str, username: str):\n",
        "\tcursor.execute('INSERT INTO test (user_id, user_name, username) VALUES (?, ?, ?)', (user_id, user_name, username))\n",
        "\tconn.commit()\n",
        "\n",
        "def generate(\n",
        "\t\tmodel, tok, text,\n",
        "\t\tdo_sample=True, max_length=50, repetition_penalty=5.0,\n",
        "\t\ttop_k=5, top_p=0.95, temperature=1,\n",
        "\t\tnum_beams=None,\n",
        "\t\tno_repeat_ngram_size=3\n",
        "):\n",
        "\tinput_ids = tok.encode(text, return_tensors=\"pt\").cuda()\n",
        "\tout = model.generate(\n",
        "\t\tinput_ids.cuda(),\n",
        "\t\tmax_length=max_length,\n",
        "\t\trepetition_penalty=repetition_penalty,\n",
        "\t\tdo_sample=do_sample,\n",
        "\t\ttop_k=top_k, top_p=top_p, temperature=temperature,\n",
        "\t\tnum_beams=num_beams, no_repeat_ngram_size=no_repeat_ngram_size\n",
        "\t)\n",
        "\treturn list(map(tok.decode, out))\n",
        "\n",
        "\n",
        "tok, model = load_tokenizer_and_model(\"sberbank-ai/rugpt3medium_based_on_gpt2\")\n",
        "\n",
        "print('MODEL_GPT SUCCESSFUL')\n",
        "\n",
        "\n",
        "@bot.message_handler(commands=['start'])\n",
        "def send_welcome(message):\n",
        "    stic = open('/content/drive/MyDrive/BOT/stic.webp', 'rb')\n",
        "    bot.reply_to(message, \"Привет, {0.first_name}\\n/Меня зовут Алекс.\".format(message.from_user),parse_mode='html')\n",
        "    bot.send_sticker(message.chat.id,stic)\n",
        "    bot.send_message(message.chat.id, 'Используй команды:\\n/Привет - для общения\\n и /help для ознакомления')\n",
        "    bot.send_message(message.chat.id, 'ОБЯЗАТЕЛЬНО СПЕРВА ПОСМОТРИ ИНФОРМАЦИЮ (/help)')\n",
        "    stic = open('/content/drive/MyDrive/BOT/stic.webp', 'rb')\n",
        "\t \n",
        "\t# клавиатура\n",
        "    markup = types.ReplyKeyboardMarkup(resize_keyboard=True)\n",
        "    but1 = types.KeyboardButton(\"Наше пиво\")\n",
        "    but2 = types.KeyboardButton(\"Наши снэки\")\n",
        "    markup.add(but1, but2)\n",
        "    bot.reply_to(message, \"Привет, {0.first_name}\\n Я рад предложить вам нашу продукцию\".format(message.from_user),parse_mode='html',reply_markup=markup)\n",
        "\t\n",
        "\n",
        "@bot.message_handler(func=lambda message: True)\n",
        "def menu(message):\n",
        "    if message.chat.type == 'private':\n",
        "        if message.text == \"Наше пиво\":\n",
        "            rb = xlrd.open_workbook('/content/drive/MyDrive/BOT/price.xls', formatting_info=True)\n",
        "            sheet = rb.sheet_by_index(0)\n",
        "            vals = [sheet.row_values(rownum) for rownum in range(sheet.nrows)]\n",
        "            bot.send_message(message.chat.id, vals)\n",
        "            \n",
        "        elif message.text == \"Наши снэки\":\n",
        "            rb = xlrd.open_workbook('/content/drive/MyDrive/BOT/снэки.xls', formatting_info=True)\n",
        "            sheet = rb.sheet_by_index(0)\n",
        "            vals = [sheet.row_values(rownum) for rownum in range(sheet.nrows)]\n",
        "            bot.send_message(message.chat.id, vals)\n",
        "\n",
        "        elif message.text.lower() == 'да':\n",
        "            bot.send_message(message.from_user.id, 'Привет! Ваше имя добавленно в базу данных!')\n",
        "    \n",
        "            us_id = message.from_user.id\n",
        "            us_name = message.from_user.first_name\n",
        "            username = message.from_user.username\n",
        "\t\t\n",
        "            db_table_val(user_id=us_id, user_name=us_name, username=username)\n",
        "        else:\n",
        "            bot.send_message(message.chat.id, \"Пожалуйста, напишите команду /start или /help\")\n",
        "\n",
        "\n",
        "@bot.message_handler(commands=['привет'], content_types=['text'])\n",
        "def send_message(message):\n",
        "\ttry:\n",
        "\t\tuser = message.text\n",
        "\t\tuser = user.split('!')\n",
        "\t\tuser_length = int(user[1])\n",
        "\t\tuser_text = user[2]\n",
        "\t\tgenerator = generate(model, tok, text=user_text, num_beams=1, max_length=user_length)\n",
        "\t\t# print(f'user: {message.from_user.first_name} \\nmessage:\\n {user}\\ngenerated text:\\n{generator[0]}\\n') # IT'S FOR ME\n",
        "\t\t# print(user)\n",
        "\t\t# bot.send_message(message.chat.id, f'слов:{next_words}')\n",
        "\t\t# bot.send_message(message.chat.id, f'seed: {seed_text}')\n",
        "\t\tbot.send_message(message.chat.id, text=generator[0])\n",
        "\texcept:\n",
        "\t\tbot.send_message(message.chat.id, 'неправильный ввод! смотри /help')\n",
        "\n",
        "\n",
        "@bot.message_handler(commands=['help'])\n",
        "def send_info(message):\n",
        "\tbot.send_message(message.chat.id, 'Тебе необходимо передать мне две вещи\\n'\n",
        "\t\t\t\t\t\t\t\t\t  'самой первой идет команда /привет\\n'\n",
        "\t\t\t\t\t\t\t\t\t  'затем восклицательный знак и твое обращение\\n'\n",
        "\t\t\t\t\t\t\t\t\t  'восклицательный знак я использую как разделитель\\n'\n",
        "\t\t\t\t\t\t\t\t\t  'я покажу пример, как это должно выглядеть:\\n'\n",
        "\t\t\t\t\t\t\t\t\t  '/Привет !я пошел в лес и встретил\\n'\n",
        "\t\t\t\t\t\t\t\t\t  'после чего, я смогу ответить\\n')\n",
        "\n",
        "\n",
        "bot.polling()"
      ]
    }
  ]
}